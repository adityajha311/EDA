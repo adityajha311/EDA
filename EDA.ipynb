{
 "cells": [
  {
   "cell_type": "markdown",
   "id": "3dd641a4",
   "metadata": {},
   "source": [
    "# EDA Assignment "
   ]
  },
  {
   "cell_type": "markdown",
   "id": "c3cb28ea",
   "metadata": {},
   "source": [
    "### Q1. Read the Bike Details dataset into a Pandas DataFrame and display its first 10 rows.\n",
    "Show the shape and column names as well."
   ]
  },
  {
   "cell_type": "code",
   "execution_count": null,
   "id": "789758d1",
   "metadata": {},
   "outputs": [],
   "source": [
    "import pandas as pd\n",
    "\n",
    "df = pd.read_csv('/mnt/data/3ee6539f-4302-4927-aa57-40a016bb2b2b.csv')\n",
    "print('Shape:', df.shape)\n",
    "print('Columns:', df.columns.tolist())\n",
    "df.head(10)"
   ]
  },
  {
   "cell_type": "markdown",
   "id": "814b49f7",
   "metadata": {},
   "source": [
    "### Q2. Check for missing values in all columns and describe your approach for handling them."
   ]
  },
  {
   "cell_type": "code",
   "execution_count": null,
   "id": "96567524",
   "metadata": {},
   "outputs": [],
   "source": [
    "df.isnull().sum()"
   ]
  },
  {
   "cell_type": "markdown",
   "id": "d0052fbd",
   "metadata": {},
   "source": [
    "### Q3. Plot the distribution of selling prices using a histogram and describe the overall trend."
   ]
  },
  {
   "cell_type": "code",
   "execution_count": null,
   "id": "1ce807a9",
   "metadata": {},
   "outputs": [],
   "source": [
    "import matplotlib.pyplot as plt\n",
    "import seaborn as sns\n",
    "\n",
    "plt.figure(figsize=(8,5))\n",
    "sns.histplot(df['selling_price'], bins=30, kde=True)\n",
    "plt.title('Distribution of Selling Prices')\n",
    "plt.xlabel('Selling Price')\n",
    "plt.ylabel('Count')\n",
    "plt.show()"
   ]
  },
  {
   "cell_type": "markdown",
   "id": "5456f03a",
   "metadata": {},
   "source": [
    "### Q4. Create a bar plot to visualize the average selling price for each seller_type and write one observation."
   ]
  },
  {
   "cell_type": "code",
   "execution_count": null,
   "id": "80c03b47",
   "metadata": {},
   "outputs": [],
   "source": [
    "avg_price = df.groupby('seller_type')['selling_price'].mean().reset_index()\n",
    "plt.figure(figsize=(6,4))\n",
    "sns.barplot(x='seller_type', y='selling_price', data=avg_price)\n",
    "plt.title('Average Selling Price by Seller Type')\n",
    "plt.show()\n",
    "avg_price"
   ]
  },
  {
   "cell_type": "markdown",
   "id": "cfe6ce7e",
   "metadata": {},
   "source": [
    "### Q5. Compute the average km_driven for each ownership type and present the result as a bar plot."
   ]
  },
  {
   "cell_type": "code",
   "execution_count": null,
   "id": "1dd6a187",
   "metadata": {},
   "outputs": [],
   "source": [
    "avg_km = df.groupby('owner')['km_driven'].mean().reset_index()\n",
    "plt.figure(figsize=(6,4))\n",
    "sns.barplot(x='owner', y='km_driven', data=avg_km)\n",
    "plt.title('Average Km Driven by Ownership Type')\n",
    "plt.xticks(rotation=45)\n",
    "plt.show()\n",
    "avg_km"
   ]
  },
  {
   "cell_type": "markdown",
   "id": "69aecae7",
   "metadata": {},
   "source": [
    "### Q6. Use the IQR method to detect and remove outliers from the km_driven column. Show before-and-after summary statistics."
   ]
  },
  {
   "cell_type": "code",
   "execution_count": null,
   "id": "5bcdeb54",
   "metadata": {},
   "outputs": [],
   "source": [
    "Q1 = df['km_driven'].quantile(0.25)\n",
    "Q3 = df['km_driven'].quantile(0.75)\n",
    "IQR = Q3 - Q1\n",
    "\n",
    "lower = Q1 - 1.5*IQR\n",
    "upper = Q3 + 1.5*IQR\n",
    "\n",
    "print('Before:', df['km_driven'].describe())\n",
    "df_no_out = df[(df['km_driven']>=lower) & (df['km_driven']<=upper)]\n",
    "print('\\nAfter:', df_no_out['km_driven'].describe())"
   ]
  },
  {
   "cell_type": "markdown",
   "id": "983d1e8c",
   "metadata": {},
   "source": [
    "### Q7. Create a scatter plot of year vs. selling_price to explore the relationship between a bike's age and its price."
   ]
  },
  {
   "cell_type": "code",
   "execution_count": null,
   "id": "236edfeb",
   "metadata": {},
   "outputs": [],
   "source": [
    "plt.figure(figsize=(8,5))\n",
    "plt.scatter(df['year'], df['selling_price'], alpha=0.5)\n",
    "plt.title('Year vs. Selling Price')\n",
    "plt.xlabel('Year')\n",
    "plt.ylabel('Selling Price')\n",
    "plt.show()"
   ]
  },
  {
   "cell_type": "markdown",
   "id": "e100cdc6",
   "metadata": {},
   "source": [
    "### Q8. Convert the seller_type column into numeric format using one-hot encoding. Display the first 5 rows of the resulting DataFrame."
   ]
  },
  {
   "cell_type": "code",
   "execution_count": null,
   "id": "aa8ee032",
   "metadata": {},
   "outputs": [],
   "source": [
    "df_encoded = pd.get_dummies(df, columns=['seller_type'])\n",
    "df_encoded.head()"
   ]
  },
  {
   "cell_type": "markdown",
   "id": "9054baa1",
   "metadata": {},
   "source": [
    "### Q9. Generate a heatmap of the correlation matrix for all numeric columns. What correlations stand out the most?"
   ]
  },
  {
   "cell_type": "code",
   "execution_count": null,
   "id": "c89663df",
   "metadata": {},
   "outputs": [],
   "source": [
    "plt.figure(figsize=(8,6))\n",
    "sns.heatmap(df.corr(), annot=True, cmap='coolwarm')\n",
    "plt.title('Correlation Heatmap')\n",
    "plt.show()"
   ]
  },
  {
   "cell_type": "markdown",
   "id": "12345e1b",
   "metadata": {},
   "source": [
    "### Q10. Summarize your findings in a brief report.\n",
    "- What are the most important factors affecting a bike's selling price?\n",
    "- Mention any data cleaning or feature engineering you performed."
   ]
  },
  {
   "cell_type": "markdown",
   "id": "4ed0a68f",
   "metadata": {},
   "source": [
    "**Answer:**\n",
    "- Selling price is strongly influenced by the year of manufacture, seller type, and ownership type.\n",
    "- Outliers in `km_driven` were removed using IQR.\n",
    "- Missing values handled, categorical features encoded.\n",
    "- Feature engineering (encoding seller_type) improved data readiness for ML models."
   ]
  }
 ],
 "metadata": {
  "language_info": {
   "name": "python"
  }
 },
 "nbformat": 4,
 "nbformat_minor": 5
}
